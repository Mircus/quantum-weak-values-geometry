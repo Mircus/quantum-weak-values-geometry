{
 "cells": [
  {
   "cell_type": "markdown",
   "id": "41825e29",
   "metadata": {},
   "source": [
    "# 🌀 Weak Values and Superoscillations using Qiskit\n",
    "\n",
    "**This notebook explores the geometric interpretation of weak values** in quantum mechanics, and demonstrates how they can lead to **superoscillations** in multi-qubit systems. We will:\n",
    "- Compute the weak value geometrically\n",
    "- Show how it amplifies small deformations\n",
    "- Simulate superoscillations from this mechanism\n"
   ]
  },
  {
   "cell_type": "code",
   "execution_count": null,
   "id": "3f313df6",
   "metadata": {},
   "outputs": [],
   "source": [
    "\n",
    "import numpy as np\n",
    "import matplotlib.pyplot as plt\n",
    "from scipy.linalg import expm\n",
    "\n",
    "plt.style.use('seaborn-v0_8-whitegrid')\n",
    "plt.rcParams.update({'font.size': 12, 'figure.dpi': 120})\n"
   ]
  },
  {
   "cell_type": "markdown",
   "id": "f0dacf0c",
   "metadata": {},
   "source": [
    "## Part 1: The Geometric Lens — Weak Value from State Deformation"
   ]
  },
  {
   "cell_type": "code",
   "execution_count": null,
   "id": "d65ab60c",
   "metadata": {},
   "outputs": [],
   "source": [
    "\n",
    "a_param = 3.0  # Strength of post-selection lens\n",
    "\n",
    "# Define |+x> and |-x>\n",
    "plus_x = (1 / np.sqrt(2)) * np.array([1, 1])\n",
    "minus_x = (1 / np.sqrt(2)) * np.array([1, -1])\n",
    "\n",
    "# Pre- and post-selected states\n",
    "psi = plus_x\n",
    "phi = (plus_x + a_param * minus_x) / np.sqrt(1 + a_param**2)\n",
    "\n",
    "# Observable: sigma_z / 2\n",
    "A = 0.5 * np.array([[1, 0], [0, -1]])\n",
    "A_psi = A @ psi\n",
    "\n",
    "# Projections and weak value\n",
    "proj_orig = np.vdot(phi, psi)\n",
    "proj_deform = np.vdot(phi, A_psi)\n",
    "A_w = proj_deform / proj_orig\n",
    "\n",
    "print(f\"Weak value A_w = {A_w:.4f} with magnitude |A_w| = {abs(A_w):.2f} and phase = {np.angle(A_w):.2f} radians\")\n"
   ]
  },
  {
   "cell_type": "markdown",
   "id": "f107b73e",
   "metadata": {},
   "source": [
    "## Part 2: Emergence of Superoscillations in Multi-Qubit Systems"
   ]
  },
  {
   "cell_type": "code",
   "execution_count": null,
   "id": "d5e9c7d9",
   "metadata": {},
   "outputs": [],
   "source": [
    "\n",
    "N = 20  # Number of qubits\n",
    "A_w_N = N * A_w\n",
    "Lambda = N / 2  # Bandlimit of full observable\n",
    "theta = np.linspace(-0.2, 0.2, 400)\n",
    "\n",
    "# F(theta): actual evolution\n",
    "F_theta = ((phi.conj() @ expm(1j * theta[:, None, None] * A) @ psi)\n",
    "           / (phi.conj() @ psi))**N\n",
    "\n",
    "# G(theta): ideal prediction from geometric lens\n",
    "G_theta = np.exp(1j * A_w_N * theta)\n",
    "\n",
    "plt.figure(figsize=(12, 6))\n",
    "plt.plot(theta, np.real(F_theta), label='Re[F(θ)] (Actual)', lw=3)\n",
    "plt.plot(theta, np.real(G_theta), '--', label='Re[e^{i A_w θ}] (Predicted)', lw=2)\n",
    "plt.xlabel(\"θ\")\n",
    "plt.ylabel(\"Real Part\")\n",
    "plt.title(\"Superoscillations via Weak Value Amplification\")\n",
    "plt.legend()\n",
    "plt.grid(True)\n",
    "plt.tight_layout()\n",
    "plt.show()\n"
   ]
  }
 ],
 "metadata": {},
 "nbformat": 4,
 "nbformat_minor": 5
}
