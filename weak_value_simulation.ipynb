{
 "cells": [
  {
   "cell_type": "markdown",
   "metadata": {},
   "source": [
    "# \ud83e\uddea Weak Value Simulation \u2014 Pure and Mixed States\n",
    "\n",
    "This notebook verifies two key identities from the paper:\n",
    "\n",
    "1. For pure states:\n",
    "$$\\langle \\phi | A P_\\psi A | \\phi \\rangle = |\\langle \\phi | A | \\psi \\rangle|^2$$\n",
    "2. For mixed states:\n",
    "$$\\langle \\phi | A \\rho A | \\phi \\rangle = \\sum_k p_k |\\langle \\phi | A | \\psi_k \\rangle|^2$$\n",
    "\n",
    "Both are simulated using Qiskit."
   ]
  },
  {
   "cell_type": "code",
   "execution_count": null,
   "metadata": {},
   "outputs": [],
   "source": [
    "!pip install qiskit qiskit-aer --quiet"
   ]
  },
  {
   "cell_type": "code",
   "execution_count": null,
   "metadata": {},
   "outputs": [],
   "source": [
    "import numpy as np\n",
    "from qiskit import QuantumCircuit, transpile\n",
    "from qiskit_aer import AerSimulator\n",
    "from qiskit.quantum_info import Statevector, Operator, DensityMatrix\n",
    "np.random.seed(42)"
   ]
  },
  {
   "cell_type": "markdown",
   "metadata": {},
   "source": [
    "## \ud83d\udd2c Pure State Case: $B = A P_\\psi A$"
   ]
  },
  {
   "cell_type": "code",
   "execution_count": null,
   "metadata": {},
   "outputs": [],
   "source": [
    "A = Operator([[1, 0], [0, -1]])\n",
    "psi_circuit = QuantumCircuit(1)\n",
    "psi_circuit.h(0)\n",
    "psi_state = Statevector(psi_circuit)\n",
    "theta_phi = np.pi / 3\n",
    "phi_circuit = QuantumCircuit(1)\n",
    "phi_circuit.ry(theta_phi, 0)\n",
    "phi_state = Statevector(phi_circuit)"
   ]
  },
  {
   "cell_type": "code",
   "execution_count": null,
   "metadata": {},
   "outputs": [],
   "source": [
    "P_psi = Operator(np.outer(psi_state.data, psi_state.data.conj()))\n",
    "B = A @ P_psi @ A\n",
    "exp_B_phi = phi_state.expectation_value(B).real\n",
    "amp_sq = np.abs(phi_state.data.conj() @ A.data @ psi_state.data)**2\n",
    "print(\"Theoretical \u27e8\u03c6|B|\u03c6\u27e9 =\", round(exp_B_phi, 6))\n",
    "print(\"|\u27e8\u03c6|A|\u03c8\u27e9|\u00b2           =\", round(amp_sq, 6))\n",
    "assert np.isclose(exp_B_phi, amp_sq)"
   ]
  },
  {
   "cell_type": "code",
   "execution_count": null,
   "metadata": {},
   "outputs": [],
   "source": [
    "phi_dagger_circuit = phi_circuit.inverse()\n",
    "circuit = QuantumCircuit(1, 1)\n",
    "circuit.append(psi_circuit, [0])\n",
    "circuit.append(A, [0])\n",
    "circuit.append(phi_dagger_circuit, [0])\n",
    "circuit.measure(0, 0)\n",
    "simulator = AerSimulator()\n",
    "result = simulator.run(transpile(circuit, simulator), shots=10000).result()\n",
    "prob_0 = result.get_counts().get('0', 0) / 10000\n",
    "print(\"Simulated |\u27e8\u03c6|A|\u03c8\u27e9|\u00b2 =\", round(prob_0, 6))"
   ]
  },
  {
   "cell_type": "markdown",
   "metadata": {},
   "source": [
    "## \ud83d\udd01 Mixed State Case: $\\rho = 0.75 |0\u27e9\u27e80| + 0.25 |1\u27e9\u27e81|$"
   ]
  },
  {
   "cell_type": "code",
   "execution_count": null,
   "metadata": {},
   "outputs": [],
   "source": [
    "p0, p1 = 0.75, 0.25\n",
    "rho = DensityMatrix([[p0, 0], [0, p1]])\n",
    "psi_k = [Statevector.from_label('0'), Statevector.from_label('1')]\n",
    "pk = [p0, p1]\n",
    "B_rho = Operator(A.data @ rho.data @ A.data)\n",
    "exp_B_rho_phi = phi_state.expectation_value(B_rho).real\n",
    "rhs_sum = sum(pk[i] * np.abs(phi_state.data.conj() @ A.data @ psi_k[i].data)**2 for i in range(2))\n",
    "print(\"Theoretical \u27e8\u03c6|B_\u03c1|\u03c6\u27e9 =\", round(exp_B_rho_phi, 6))\n",
    "print(\"Weighted sum         =\", round(rhs_sum, 6))\n",
    "assert np.isclose(exp_B_rho_phi, rhs_sum)"
   ]
  },
  {
   "cell_type": "code",
   "execution_count": null,
   "metadata": {},
   "outputs": [],
   "source": [
    "exp_results = []\n",
    "for i in range(2):\n",
    "    psi_k_circuit = QuantumCircuit(1)\n",
    "    if i == 1:\n",
    "        psi_k_circuit.x(0)\n",
    "    circuit = QuantumCircuit(1, 1)\n",
    "    circuit.append(psi_k_circuit, [0])\n",
    "    circuit.append(A, [0])\n",
    "    circuit.append(phi_circuit.inverse(), [0])\n",
    "    circuit.measure(0, 0)\n",
    "    result = simulator.run(transpile(circuit, simulator), shots=10000).result()\n",
    "    prob_0 = result.get_counts().get('0', 0) / 10000\n",
    "    exp_results.append(prob_0)\n",
    "simulated_rhs = pk[0] * exp_results[0] + pk[1] * exp_results[1]\n",
    "print(\"Simulated RHS (mixed) =\", round(simulated_rhs, 6))"
   ]
  }
 ],
 "metadata": {
  "kernelspec": {
   "display_name": "Python 3",
   "language": "python",
   "name": "python3"
  },
  "language_info": {
   "name": "python"
  }
 },
 "nbformat": 4,
 "nbformat_minor": 5
}